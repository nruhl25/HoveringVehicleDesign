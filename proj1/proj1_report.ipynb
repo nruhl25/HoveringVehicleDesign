{
 "cells": [
  {
   "cell_type": "markdown",
   "metadata": {},
   "source": [
    "## MEAM 5460 Project 1: Blade Element Momentum Theory\n",
    "### Author: Nathaniel Ruhl"
   ]
  },
  {
   "cell_type": "markdown",
   "metadata": {},
   "source": [
    "### Introduction\n",
    "\n",
    "In this report, I expand the BEMT tool first developed in Homework 3. We are still consider a rotor in hover, but we consider linear variations of rotor properties such as rotor twist distribution $\\theta(r)$, blade section chord length $c(r)$, and linear airfoil lift-curve slopes $c_{l,\\alpha}$. The enumerated list below shows the key assumptions and models built into the \"BEMT2\" tool, which can be directly compared to the BEMT tool created for Homework 3:\n",
    "\n",
    "1. The rotor is in hover: $\\lambda_c = 0$\n",
    "2. Linear twist distribution, specified by input collective at 75%R and the linear twist rate: $\\theta(r) = \\theta_{75} + \\theta_{tw}(r-0.75)$\n",
    "3. Linear taper of local blade chord, specified by the chord at 75%R and the taper rate (TR): $c(r) = c_{75}+\\frac{1}{TR}(r-0.75)$\n",
    "4. Linear airfoil lift-curve slopes, specified by the slope at 75%R and the airfoil varitation root-to-tip (AV): $c_{l,\\alpha}(r)=c_{l,\\alpha}^{(75)}+AV(r-0.75)$\n",
    "5. The Prandtl tip loss factor, $0<F<1$, describes the increase of induced velocity near the rotor tip"
   ]
  },
  {
   "cell_type": "markdown",
   "metadata": {},
   "source": [
    "### The \"Rotor2\" class and baseline test rotor specifications\n",
    "\n",
    "The test rotor specifications that will be considered in this report are used as the default instance properties in the \"Rotor2\" class. The default properties are\n",
    "\n",
    "- $N_b$ = 1\n",
    "- $R$ = 30 ft\n",
    "- $v_{tip}$ = 780 ft/sec\n",
    "\n",
    "and the (property) coefficients defining the linear variations are\n",
    "\n",
    "__Twist distribution__:\n",
    "- $\\theta_{75}=5^\\circ$ (I define this because the assignment does not specify)\n",
    "- $\\theta_{tw}=-8^\\circ$ per non-dimensional radius\n",
    "\n",
    "__Taper__:\n",
    "- $c_{75} = 2$ ft\n",
    "- $TR = 2$ ft per non-dimensional radius\n",
    "\n",
    "__Airfoil variation__:\n",
    "- $c_{l,\\alpha}^{(75)}=5\\pi$\n",
    "- $AV=4\\pi$ per non-dimensional radius\n",
    "\n",
    "\n",
    "\n",
    "\n",
    "\n"
   ]
  },
  {
   "cell_type": "markdown",
   "metadata": {},
   "source": [
    "### BEMT Equations with Prandtl Tip Loss Factor"
   ]
  },
  {
   "cell_type": "markdown",
   "metadata": {},
   "source": [
    "### Analysis"
   ]
  },
  {
   "cell_type": "code",
   "execution_count": null,
   "metadata": {},
   "outputs": [],
   "source": []
  }
 ],
 "metadata": {
  "kernelspec": {
   "display_name": "Python 3",
   "language": "python",
   "name": "python3"
  },
  "language_info": {
   "codemirror_mode": {
    "name": "ipython",
    "version": 3
   },
   "file_extension": ".py",
   "mimetype": "text/x-python",
   "name": "python",
   "nbconvert_exporter": "python",
   "pygments_lexer": "ipython3",
   "version": "3.8.3"
  }
 },
 "nbformat": 4,
 "nbformat_minor": 4
}
